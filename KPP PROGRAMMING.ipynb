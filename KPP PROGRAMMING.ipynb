{
  "nbformat": 4,
  "nbformat_minor": 0,
  "metadata": {
    "colab": {
      "provenance": []
    },
    "kernelspec": {
      "name": "python3",
      "display_name": "Python 3"
    },
    "language_info": {
      "name": "python"
    }
  },
  "cells": [
    {
      "cell_type": "code",
      "execution_count": 6,
      "metadata": {
        "colab": {
          "base_uri": "https://localhost:8080/"
        },
        "id": "u4yx8Be8aWzF",
        "outputId": "8961a5d9-f3ba-41b9-f781-22f97b500de7"
      },
      "outputs": [
        {
          "output_type": "stream",
          "name": "stdout",
          "text": [
            "Overwriting nameOfFile.cpp\n"
          ]
        }
      ],
      "source": [
        "%%writefile nameOfFile.cpp\n",
        "\n",
        "#include <iostream>\n",
        "#include <cmath>\n",
        "using namespace std;\n",
        "\n",
        "int gravitasi = 10;\n",
        "\n",
        "int speed_dgn_loss(int x){\n",
        "    if (x<=10){\n",
        "        return 1;\n",
        "    }\n",
        "    else if (x>=11&&x<=20){\n",
        "        return 3;\n",
        "    }\n",
        "    else {\n",
        "        return 5;\n",
        "    }\n",
        "}\n",
        "\n",
        "float mencari_V0(int x){\n",
        "    return sqrt(x*10);\n",
        "}\n",
        "\n",
        "int main(){\n",
        "    int n, jarak;\n",
        "    float  kecepatan_tangensial;\n",
        "    cin>>n;\n",
        "    jarak = pow(n-speed_dgn_loss(n),2)*1/10;\n",
        "    kecepatan_tangensial = mencari_V0(jarak) + speed_dgn_loss(mencari_V0(jarak));\n",
        "    cout << jarak << \" \" << kecepatan_tangensial << endl;\n",
        "    return 0;\n",
        "}"
      ]
    }
  ]
}